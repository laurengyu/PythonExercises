{
 "cells": [
  {
   "cell_type": "markdown",
   "metadata": {},
   "source": [
    "# MSiA422 Java & Python Homework 2\n",
    "By Lauren Yu"
   ]
  },
  {
   "cell_type": "markdown",
   "metadata": {},
   "source": [
    "**CONTENT**\n",
    "- 1.Bubble Sort Function\n",
    "- 2.Merge Sort Function\n",
    "- 3.Comparison and Summary"
   ]
  },
  {
   "cell_type": "code",
   "execution_count": 758,
   "metadata": {
    "collapsed": false
   },
   "outputs": [
    {
     "name": "stdout",
     "output_type": "stream",
     "text": [
      "Once deleted, variables cannot be recovered. Proceed (y/[n])? y\n",
      "Populating the interactive namespace from numpy and matplotlib\n"
     ]
    }
   ],
   "source": [
    "%reset\n",
    "%pylab inline\n",
    "matplotlib.style.use('ggplot')\n",
    "import string, pandas as pd"
   ]
  },
  {
   "cell_type": "markdown",
   "metadata": {},
   "source": [
    "### 1. Bubble Sort Function\n",
    "Parameters of the bubbleSort() function:\n",
    "- alist: A list of strings, integers or others. It has to contain elements of the same type, otherwise we return an error message --- **except when the list consists of integers and floats only.**\n",
    "- reverse: By default false (ascending order). If true, then we sort by reverse (descending).\n",
    "- key: The function by which we sort the values. By fault none.\n",
    "\n",
    "It returns:\n",
    "- The sorted list."
   ]
  },
  {
   "cell_type": "code",
   "execution_count": 759,
   "metadata": {
    "collapsed": false
   },
   "outputs": [],
   "source": [
    "def bubbleSort(alist,reverse=False,key=None):\n",
    "    \"\"\"Find unique data types contained in the list\n",
    "    If uniform type, ok\n",
    "    If not uniform type but has only int and float, ok\n",
    "    Otherwise not ok, returns error message\n",
    "    \n",
    "    If regular order, with no key\n",
    "    then swap elements. Smaller item comes first.\n",
    "    If with key, compare key(item1) and key(item2)\n",
    "    \n",
    "    If reverse order with no key,\n",
    "    then swap elements. Bigger item comes first.\n",
    "    If with key, then compare key(item1), key(item2) instead\"\"\"\n",
    "    \n",
    "    get_type= list(set([type(i) for i in alist]))\n",
    "    if len(get_type)!=1 and get_type!=[int,float]:\n",
    "        print(\"Can't deal with list of mixed types. Sorted() in Python can't do it either.\")\n",
    "        print(\"Sorry!\")\n",
    "    for pass_num in range(len(alist)-1,0,-1):\n",
    "        for i in range(pass_num):\n",
    "            #Regular order\n",
    "            if not reverse:\n",
    "                if key is None:\n",
    "                    if alist[i]>alist[i+1]:\n",
    "                        temp = alist[i]\n",
    "                        alist[i] = alist[i+1]\n",
    "                        alist[i+1] = temp\n",
    "                    else:\n",
    "                        if key(alist[i])>key(alist[i+1]):\n",
    "                            temp = alist[i]\n",
    "                            alist[i] = alist[i+1]\n",
    "                            alist[i+1] = temp\n",
    "            else:\n",
    "                if key is None:\n",
    "                    if alist[i]<alist[i+1]:\n",
    "                        temp = alist[i]\n",
    "                        alist[i] = alist[i+1]\n",
    "                        alist[i+1] = temp\n",
    "                    else:\n",
    "                        #With key\n",
    "                        if key(alist[i])<key(alist[i+1]):\n",
    "                            temp = alist[i]\n",
    "                            alist[i] = alist[i+1]\n",
    "                            alist[i+1] = temp\n",
    "    return alist"
   ]
  },
  {
   "cell_type": "markdown",
   "metadata": {},
   "source": [
    "The bubbleSort() function (and our next *mergeSort()* function) will be tested on the below iterables:"
   ]
  },
  {
   "cell_type": "code",
   "execution_count": 760,
   "metadata": {
    "collapsed": false
   },
   "outputs": [
    {
     "name": "stdout",
     "output_type": "stream",
     "text": [
      "True\n",
      "True\n"
     ]
    }
   ],
   "source": [
    "\"\"\"Test lists, randomly generated\"\"\"\n",
    "\"\"\"Random numbers\"\"\"\n",
    "numbers = numpy.random.rand(1,10).tolist()\n",
    "\n",
    "\"\"\"Random strings\"\"\"\n",
    "chars=' '.join(string.ascii_uppercase + string.digits).split(' ')\n",
    "strings = [random.choice(chars) for k in range(10)]\n",
    "\n",
    "\"\"\"A list of lists of random numbers\"\"\"\n",
    "lists = numpy.random.rand(4,2).tolist()\n",
    "\n",
    "\"\"\"A tuple with random elements\"\"\"\n",
    "student_tuples = [(random.choice(chars), 'A', numpy.random.rand(1,1)[0][0]),\n",
    "                 (random.choice(chars), 'B', numpy.random.rand(1,1)[0][0]),\n",
    "                 (random.choice(chars), 'C', numpy.random.rand(1,1)[0][0])]\n",
    "\n",
    "\"\"\"A mixed list\"\"\"\n",
    "mixed = numpy.random.rand(1,3).tolist()\n",
    "mixed = mixed + [random.choice(chars) for k in range(3)]\n",
    "\n",
    "\n",
    "\"\"\"Compare bubbleSort on test lists against sorted() results\"\"\"\n",
    "everything=[numbers, strings, lists,student_tuples,mixed]\n",
    "\n",
    "for e in everything:\n",
    "    try:\n",
    "        print(bubbleSort(e)==sorted(e))\n",
    "        print(bubbleSort(e, reverse=True)==sorted(e, reverse=True))\n",
    "    except:\n",
    "        break"
   ]
  },
  {
   "cell_type": "markdown",
   "metadata": {},
   "source": [
    "It seems everything is working. Now let's see how bubbleSort() handles key functions for each of the test lists specified above."
   ]
  },
  {
   "cell_type": "code",
   "execution_count": 763,
   "metadata": {
    "collapsed": false
   },
   "outputs": [
    {
     "name": "stdout",
     "output_type": "stream",
     "text": [
      "Original List: ['3', 'G', 'U', '8', 'X', '4', 'X', '6', 'M', 'Z']\n",
      "-----\n",
      "Results agree\n",
      "Original List: [('1', 'A', 0.6075157144538782), ('7', 'B', 0.98462184621880322), ('L', 'C', 0.51352902141156753)]\n",
      "-----\n",
      "Original List: [[0.8115981436332995, 0.7795523385965585], [0.885080155097639, 0.3224210518232872], [0.10716543173998427, 0.16124975726807989], [0.672786361462869, 0.7141498933545607]]\n",
      "-----\n"
     ]
    }
   ],
   "source": [
    "\"\"\"To save time, let's define a function first\n",
    "It takes a list, a key and a sorting function\"\"\"\n",
    "def compare(alist,akey,func,reverse=False):\n",
    "    switch=reverse\n",
    "    mysort=func(alist,key=akey, reverse=switch)\n",
    "    pysort=sorted(alist, key=akey, reverse=switch)\n",
    "    if sum(mysort!=pysort)>0:\n",
    "        \"\"\"If there's any discrepancy\"\"\"\n",
    "        print('Original List:',alist)\n",
    "        print('-----')\n",
    "    else:\n",
    "        print(\"Results agree\")\n",
    "\n",
    "\n",
    "\n",
    "\"\"\"#for list of strings, compare by first character\"\"\"\n",
    "strkey=lambda x: x[0]\n",
    "compare(strings, strkey, bubbleSort)\n",
    "\n",
    "\"\"\"#for list of numbers, compare by a random function output\"\"\"\n",
    "numkey=lambda x: x/log10(x)\n",
    "compare(numbers, numkey, bubbleSort)\n",
    "\n",
    "\"\"\"#for list of tuples, compare by 3rd element\"\"\"\n",
    "tupkey=lambda x: x[2]\n",
    "compare(student_tuples,tupkey, bubbleSort)\n",
    "\n",
    "\"\"\"#for a list of lists, compare by last element\"\"\"\n",
    "lskey=lambda x:x[-1]\n",
    "compare(lists, lskey, bubbleSort)"
   ]
  },
  {
   "cell_type": "markdown",
   "metadata": {},
   "source": [
    "All results agree for the 4 test lists (with uniform element types). This means our bubbleSort() function is working!"
   ]
  },
  {
   "cell_type": "markdown",
   "metadata": {
    "collapsed": false
   },
   "source": [
    "### 2. Merge Sort Function\n",
    "Parameters of the mergeSort() function:\n",
    "- alist: A list of strings, integers or others. It has to contain elements of the same type, otherwise we return an error message --- **except when the list consists of integers and floats only.**\n",
    "- reverse: By default false (ascending order). If true, then we sort by reverse (descending).\n",
    "- key: The function by which we sort the values. By fault none.\n",
    "\n",
    "It returns:\n",
    "- The sorted list."
   ]
  },
  {
   "cell_type": "code",
   "execution_count": 722,
   "metadata": {
    "collapsed": false
   },
   "outputs": [],
   "source": [
    "def mergeSort(lst, reverse=False,key=None):\n",
    "    \n",
    "    #Find the unique element types in the list\n",
    "    get_type= list(set([type(i) for i in lst]))\n",
    "    if len(get_type)!=1 and get_type!=[int,float]:\n",
    "        #If we don't have uniform list element type\n",
    "        #except the situation of integer with float\n",
    "        #which Python sorted() can still sort\n",
    "        print(\"Can't deal with list of mixed types. Sorted() in Python can't do it either.\")\n",
    "        print(\"Sorry!\")\n",
    "        \n",
    "    switch=reverse #This helps us pass the switch to the sub function\n",
    "    if len(lst) <= 1: #If list exhausted\n",
    "        return lst\n",
    "    mid = len(lst) // 2 #Midpoint fot split\n",
    "    left = mergeSort(lst[:mid],switch,key) #Split\n",
    "    right = mergeSort(lst[mid:],switch, key)\n",
    "\n",
    "    def merge(left, right, switch):\n",
    "        if not left: #If exhausted\n",
    "            return right\n",
    "        if not right: #If exhausted\n",
    "            return left\n",
    "        if not switch: # If regular order\n",
    "            if key is None:\n",
    "                if left[0] < right[0]:\n",
    "                    #smaller item first, keep merge the rest\n",
    "                    return [left[0]] + merge(left[1:], right, switch)\n",
    "            else:\n",
    "                if key(left[0]) < key(right[0]):\n",
    "                    return [left[0]] + merge(left[1:], right, switch)\n",
    "        else:\n",
    "            if key is None:\n",
    "                if left[0] > right[0]:\n",
    "                #smaller item first, keep merge the rest\n",
    "                    return [left[0]] + merge(left[1:], right, switch)\n",
    "            else:\n",
    "                if key(left[0]) > key(right[0]):\n",
    "                    return [left[0]] + merge(left[1:], right, switch)\n",
    "                \n",
    "        return [right[0]] + merge(left, right[1:], switch)\n",
    "    \n",
    "    return merge(left, right, switch)"
   ]
  },
  {
   "cell_type": "markdown",
   "metadata": {},
   "source": [
    "Again, let's compare our mergeSort() results with sorted()."
   ]
  },
  {
   "cell_type": "code",
   "execution_count": 723,
   "metadata": {
    "collapsed": false
   },
   "outputs": [
    {
     "name": "stdout",
     "output_type": "stream",
     "text": [
      "True\n",
      "True\n",
      "True\n",
      "True\n",
      "True\n",
      "True\n",
      "True\n",
      "True\n",
      "Can't deal with list of mixed types. Sorted() in Python can't do it either.\n",
      "Sorry!\n",
      "Can't deal with list of mixed types. Sorted() in Python can't do it either.\n",
      "Sorry!\n"
     ]
    }
   ],
   "source": [
    "#Compare against sorted()\n",
    "for e in everything:\n",
    "    try:\n",
    "        #Compare bubbleSort results with Python sorted\n",
    "        print(mergeSort(e)==sorted(e)) #Regular order\n",
    "        print(mergeSort(e, reverse=True)==sorted(e, reverse=True)) #Reverse\n",
    "    except:\n",
    "        break"
   ]
  },
  {
   "cell_type": "code",
   "execution_count": 724,
   "metadata": {
    "collapsed": false
   },
   "outputs": [
    {
     "name": "stdout",
     "output_type": "stream",
     "text": [
      "Results agree\n",
      "Results agree\n",
      "Results agree\n",
      "Results agree\n"
     ]
    }
   ],
   "source": [
    "#for list of strings, compare by first character\n",
    "compare(strings, strkey, mergeSort)\n",
    "        \n",
    "#for list of numbers, compare by a random function output\n",
    "compare(numbers, numkey, mergeSort)\n",
    "\n",
    "#for list of tuples, compare by 3rd element\n",
    "compare(student_tuples,tupkey, mergeSort)\n",
    "\n",
    "#for a list of lists, compare by last element\n",
    "compare(lists, lskey, mergeSort)"
   ]
  },
  {
   "cell_type": "markdown",
   "metadata": {},
   "source": [
    "### 3. Comparison and Summary\n",
    "Let's compare the two sorting algorithms on a list of randomly generated strings."
   ]
  },
  {
   "cell_type": "code",
   "execution_count": 725,
   "metadata": {
    "collapsed": false
   },
   "outputs": [
    {
     "data": {
      "text/plain": [
       "'fcehiifbbjjgc cdkkddgeaibdd kje hgbafbjadkedfkifkhihchibcabghbk kbgbgcgdhibbfgheibb fbdfceaje bidica  ii faiejghc   ebkkjdgj fa ebjffj kgfkeckki akchdiadibbd bhghbiffbghj ga hcfekhe  bagf ekbd ekgf gihicjejhdjfick  afkdabgkdfjffikbefdkfihgcfjffe fbadcgicjb khbfkebid cb gjggkhjcjidhjkdfada e akhihhjigiai ek ak caedkajcdcdggfehieijabebhjffcfhgda fkcgbheedfcigc gd iggbdahiiac dfdggcbbhaabggiiedajcaabehjgfbjdkbfggjbfkkhec gagiaeadcegbbfkej ghbjaki ciak cbekegcikbk dc ebbadggg hddbcdfebgbacj khghjkb bjdhcgdfhkkgg dce fbekdibeeichhgcifkkch  ajddcf d dgh ehhhbgehfgiic adhgjeebkejhdjkk cbchb begffcahkabbeabcaebjkf  ebkadbhkiejdiakehecdgc eahfjjfieabieeeigah kc gfkahek gh aehfdjeecfgikicfibhjjfbbed iieac ihhfieikfhgci fjbdjffcacgehhifkfhbjfkgabfcb  e ffbefkaiibiigfijakgfkabfbbckaabb hjffcbjabak dichgkhbggdjfdjkjid  jbfhafgjjcighbhfcebgfehficeehiee dhchhjekbch ggfkjb dc ffbehcjbjkdbijjaaefagciaibbdebibh  jabgfiaighig b gahejca fka gkbb cbikiekdckgghhheeaiffkaafh jaki g aegfiijkjbhaeiic i kedcebb'"
      ]
     },
     "execution_count": 725,
     "metadata": {},
     "output_type": "execute_result"
    }
   ],
   "source": [
    "import random, string\n",
    "from timeit import Timer\n",
    "\n",
    "def randomword(charlength):\n",
    "    #Let's randomly choose *n (n=length, which is input)\n",
    "    #characters in the pool of letters 'abcdefghijk' and blank.\n",
    "    #A string will be returned.\n",
    "    if isinstance(charlength, int):\n",
    "        return ''.join(random.choice('abcdefghijk'+' ') for i in range(charlength))\n",
    "    else:\n",
    "        print(\"Error. Please give me an integer.\")\n",
    "        \n",
    "#Try it\n",
    "randomword(1000)"
   ]
  },
  {
   "cell_type": "markdown",
   "metadata": {},
   "source": [
    "Then let's write a function *timecomparison*.\n",
    "Input:\n",
    "- 'functiontype': determines the type of function we run, whether it be 'merge' or 'bubble'. Doesn't take other arguments.\n",
    "- 'minlength': the minimum length of the string list we test on.\n",
    "- 'maxlength': the max length of the string list we test on.\n",
    "\n",
    "Function:\n",
    "- Track the time it takes to run bubbleSort or mergeSort for lists of varying length (varying between min and max length)\n",
    "- Store the time records in a list. Return the list, which will be used for plotting later."
   ]
  },
  {
   "cell_type": "code",
   "execution_count": 726,
   "metadata": {
    "collapsed": true
   },
   "outputs": [],
   "source": [
    "def timecomparison(functiontype,minlength,maxlength):\n",
    "    if isinstance(minlength, int) & isinstance(maxlength, int):\n",
    "        #Create an empty list to store all the tracked time records\n",
    "        time=[]\n",
    "        maxlength=maxlength+1\n",
    "        for i in range(minlength,maxlength):\n",
    "            #Generate a list consisting of random numbers\n",
    "            #chosen from the range of min and max length\n",
    "            rand_sample=random.sample(range(minlength, maxlength+1),i-minlength+1)\n",
    "            #for each number in rand_sample\n",
    "            #generate a list of random strings, length=that number\n",
    "            test=[randomword(k) for k in rand_sample]\n",
    "            #Now we get the time and append it to time list.\n",
    "            if functiontype=='merge':\n",
    "                time.append(Timer(lambda: mergeSort(test)).timeit(number=1))\n",
    "            elif functiontype=='bubble':\n",
    "                time.append(Timer(lambda: bubbleSort(test)).timeit(number=1))\n",
    "            else:\n",
    "                print('Function type not accepted!')\n",
    "        return time\n",
    "    else:\n",
    "        print(\"Please input integers.\")"
   ]
  },
  {
   "cell_type": "code",
   "execution_count": 727,
   "metadata": {
    "collapsed": false
   },
   "outputs": [],
   "source": [
    "#Generate two lists of time for each algorithm\n",
    "bubbletime=timecomparison('bubble',1,100)\n",
    "mergetime=timecomparison('merge',1,100)"
   ]
  },
  {
   "cell_type": "code",
   "execution_count": 735,
   "metadata": {
    "collapsed": false
   },
   "outputs": [
    {
     "name": "stdout",
     "output_type": "stream",
     "text": [
      "Comparing the summary statistics\n",
      "--------------------------------\n",
      "Algorithm           Average     Max         Min         Median      \n",
      "bubblesort          0.001258    0.012536    1.4e-05     0.000756    \n",
      "mergesort           0.001343    0.005891    1.4e-05     0.001087    \n"
     ]
    }
   ],
   "source": [
    "#Make a new dataframe\n",
    "computingtime=pd.DataFrame()\n",
    "computingtime['bubblesort']=bubbletime\n",
    "computingtime['mergesort']=mergetime\n",
    "\n",
    "#Print out summary statistics\n",
    "print('Comparing the summary statistics')\n",
    "print('--------------------------------')\n",
    "sys.stdout.write(\"{0:<20}{1:<12}{2:<12}{3:<12}{4:<12}\\n\".format('Algorithm', \"Average\", \"Max\", \"Min\", \"Median\"))\n",
    "for col in computingtime.columns.values:\n",
    "    avg=round(computingtime[col].mean(),6)\n",
    "    maxi=round(computingtime[col].max(),6)\n",
    "    mini=round(computingtime[col].min(),6)\n",
    "    medi=round(computingtime[col].median(),6)\n",
    "    #Note that you shouldn't write mean(df[col])\n",
    "    #Because it will implicitly transform the\n",
    "    #pandas series into a list, which might not\n",
    "    #be the most efficient way.\n",
    "    sys.stdout.write(\"{0:<20}{1:<12}{2:<12}{3:<12}{4:<12}\\n\".format(col, avg, maxi, mini, medi))"
   ]
  },
  {
   "cell_type": "code",
   "execution_count": 717,
   "metadata": {
    "collapsed": false
   },
   "outputs": [
    {
     "data": {
      "text/plain": [
       "<matplotlib.text.Text at 0x10e34f7b8>"
      ]
     },
     "execution_count": 717,
     "metadata": {},
     "output_type": "execute_result"
    },
    {
     "data": {
      "image/png": "[encoded data removed]",
      "text/plain": [
       "<matplotlib.figure.Figure at 0x10e327518>"
      ]
     },
     "metadata": {},
     "output_type": "display_data"
    }
   ],
   "source": [
    "#Plot it\n",
    "plot(range(1,101),bubbletime,label='Bubble')\n",
    "plot(range(1,101),mergetime, label='Merge')\n",
    "legend(loc=2,fontsize=9)\n",
    "xlabel('List length')\n",
    "ylabel('Time')\n",
    "title('With rare exceptions, Bubble is superior to Merge', fontsize=9)"
   ]
  },
  {
   "cell_type": "markdown",
   "metadata": {},
   "source": [
    "As both the summary statistics and plot have confirmed: on average, Bubble Sort is superior to Merge Sort."
   ]
  }
 ],
 "metadata": {
  "anaconda-cloud": {},
  "kernelspec": {
   "display_name": "Python [conda root]",
   "language": "python",
   "name": "conda-root-py"
  },
  "language_info": {
   "codemirror_mode": {
    "name": "ipython",
    "version": 3
   },
   "file_extension": ".py",
   "mimetype": "text/x-python",
   "name": "python",
   "nbconvert_exporter": "python",
   "pygments_lexer": "ipython3",
   "version": "3.5.2"
  }
 },
 "nbformat": 4,
 "nbformat_minor": 1
}
