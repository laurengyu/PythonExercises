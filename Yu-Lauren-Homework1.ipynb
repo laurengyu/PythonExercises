{
 "cells": [
  {
   "cell_type": "markdown",
   "metadata": {},
   "source": [
    "# MSiA422 Java & Python Homework 1\n",
    "By Lauren Yu"
   ]
  },
  {
   "cell_type": "markdown",
   "metadata": {},
   "source": [
    "### Exercise 1 – Procedural vs Functional Programming"
   ]
  },
  {
   "cell_type": "code",
   "execution_count": 4,
   "metadata": {
    "collapsed": false
   },
   "outputs": [
    {
     "name": "stdout",
     "output_type": "stream",
     "text": [
      "Once deleted, variables cannot be recovered. Proceed (y/[n])? y\n",
      "Populating the interactive namespace from numpy and matplotlib\n"
     ]
    }
   ],
   "source": [
    "#This to clear old variables and make sure we start clean.\n",
    "%reset\n",
    "%pylab inline"
   ]
  },
  {
   "cell_type": "markdown",
   "metadata": {},
   "source": [
    "Please find below the two functions. One is procedural and the other is functional. <br />\n",
    "Each function takes a list as input. Error message will show if something other than a list is given."
   ]
  },
  {
   "cell_type": "code",
   "execution_count": 19,
   "metadata": {
    "collapsed": true
   },
   "outputs": [],
   "source": [
    "def procedure(l):\n",
    "    if isinstance(l, list):\n",
    "        c1,c2=0,0\n",
    "        #c1 count of words\n",
    "        #c2 count of numbers\n",
    "        for ll in l:\n",
    "            c2=isinstance(ll,int)+c2\n",
    "            #Check each element in list l, if it's an integer, add to c2\n",
    "            if isinstance(ll,str):\n",
    "                #If the element is a string, we split it and form new list k\n",
    "                #Length of k will naturally be word count in that string\n",
    "                k=ll.split(' ')\n",
    "        c1=c1+len(k)\n",
    "        print(\"Count of numbers:\", c2)\n",
    "        print(\"Count of words:\", c1)\n",
    "    else:\n",
    "        print(\"Error! You sure you gave me a list?\")"
   ]
  },
  {
   "cell_type": "code",
   "execution_count": 20,
   "metadata": {
    "collapsed": false
   },
   "outputs": [],
   "source": [
    "def functional(l):\n",
    "    if isinstance(l, list):\n",
    "        #Form a list of strings for all strings in l, split each string into new sublists of individual words\n",
    "        #Count length of each sublist (word count)\n",
    "        #Sum all word counts\n",
    "        words=sum([len(ll.split()) for ll in l if isinstance(ll,str)])\n",
    "        #The length of the list consisting of all integers in our list l\n",
    "        #will just be the number of integers\n",
    "        numbers=len([ll for ll in l if isinstance(ll,int)])\n",
    "        print(\"Count of numbers:\", numbers)\n",
    "        print(\"Count of words:\", words)\n",
    "    else:\n",
    "        print(\"Error! You sure you gave me a list?\")"
   ]
  },
  {
   "cell_type": "markdown",
   "metadata": {},
   "source": [
    "Let's see how the two functions handle error."
   ]
  },
  {
   "cell_type": "code",
   "execution_count": 21,
   "metadata": {
    "collapsed": false
   },
   "outputs": [
    {
     "name": "stdout",
     "output_type": "stream",
     "text": [
      "Error! You sure you gave me a list?\n"
     ]
    }
   ],
   "source": [
    "functional('Ha')"
   ]
  },
  {
   "cell_type": "code",
   "execution_count": 22,
   "metadata": {
    "collapsed": false
   },
   "outputs": [
    {
     "name": "stdout",
     "output_type": "stream",
     "text": [
      "Error! You sure you gave me a list?\n"
     ]
    }
   ],
   "source": [
    "procedure('Ha')"
   ]
  },
  {
   "cell_type": "code",
   "execution_count": 23,
   "metadata": {
    "collapsed": false
   },
   "outputs": [
    {
     "name": "stdout",
     "output_type": "stream",
     "text": [
      "Count of numbers: 3\n",
      "Count of words: 3\n",
      "----------\n",
      "Count of numbers: 3\n",
      "Count of words: 7\n"
     ]
    }
   ],
   "source": [
    "#Now let's just test a random list\n",
    "test=[1,2,3,'Haha','I am here','I never know']\n",
    "procedure(test)\n",
    "print('----------')\n",
    "functional(test)"
   ]
  },
  {
   "cell_type": "markdown",
   "metadata": {},
   "source": [
    "Then let's write a function *timecomparison* that:\n",
    "- Generate a list of certain length (input), randomly consisting of integers and strings.\n",
    "- Track the time it takes to run functional or procedural functions for lists of varying length (varying between min and max length)\n",
    "- Store the time records in a list. Return the list, which will be used for plotting later.\n",
    "\n",
    "Input:\n",
    "- 'functiontype': determines the type of function we run, whether it be 'functional' or 'procedural'. Doesn't take other arguments.\n",
    "- 'minlength': the minimum length of the list.\n",
    "- 'maxlength': the max length of the list.\n",
    "\n",
    "To generate the list, which randomly consists of integers and strings:\n",
    "- The integer will always be 100. There's no point in varying this.\n",
    "- For the string, let's vary it using a function **'randomword'**, which takes length as input.\n",
    " - Let's randomly choose *n (n=length, which is input) characters in the pool of letters 'abcdefghijk' and blank.\n",
    " - The result will be something like 'iabh jakbbhhajge ebi' (input length=20), which has 3 word counts\n",
    " - Let's try *randomword(20)* again and we get 'edeekicffbeddigchdah', which has 1 word count.\n",
    " - This is how we randomize the word count in a string."
   ]
  },
  {
   "cell_type": "code",
   "execution_count": 25,
   "metadata": {
    "collapsed": false
   },
   "outputs": [],
   "source": [
    "import random, string\n",
    "from timeit import Timer\n",
    "\n",
    "def randomword(length):\n",
    "    #Let's randomly choose *n (n=length, which is input)\n",
    "    #characters in the pool of letters 'abcdefghijk' and blank.\n",
    "    #A string will be returned.\n",
    "    if isinstance(length, int):\n",
    "        return ''.join(random.choice('abcdefghijk'+' ') for i in range(length))\n",
    "    else:\n",
    "        print(\"Error. Please give me an integer.\")\n",
    "    \n",
    "def timecomparison(functiontype,minlength,maxlength):\n",
    "    if isinstance(minlength, int) & isinstance(maxlength, int):\n",
    "        #Create an empty list to store all the tracked time records\n",
    "        time=[]\n",
    "        maxlength=maxlength+1\n",
    "        for i in range(minlength,maxlength):\n",
    "            #Generate a list consisting of random numbers chosen from the range of min and max length\n",
    "            #The list length is i-minlength\n",
    "            rand_sample=random.sample(range(minlength, maxlength+1),i-minlength+1)\n",
    "            #For odd numbers in rand_sample, we assign it an integer\n",
    "            #Else the randomized string\n",
    "            test=[randomword(k) if k%2==1 else 100 for k in rand_sample]\n",
    "            #Now we get the time and append it to time list.\n",
    "            if functiontype=='functional':\n",
    "                time.append(Timer(lambda: functional(test)).timeit(number=1))\n",
    "            elif functiontype=='procedural':\n",
    "                time.append(Timer(lambda: procedure(test)).timeit(number=1))\n",
    "            else:\n",
    "                print('Function type not accepted!')\n",
    "        return time\n",
    "    else:\n",
    "        print(\"Please input integers.\")"
   ]
  },
  {
   "cell_type": "markdown",
   "metadata": {},
   "source": [
    "Let's see how the *timecomparison* function handles error."
   ]
  },
  {
   "cell_type": "code",
   "execution_count": 30,
   "metadata": {
    "collapsed": false
   },
   "outputs": [
    {
     "name": "stdout",
     "output_type": "stream",
     "text": [
      "Function type not accepted!\n",
      "Function type not accepted!\n",
      "------\n",
      "Please input integers.\n"
     ]
    }
   ],
   "source": [
    "timecomparison('Undefined function',1,2)\n",
    "print('------')\n",
    "timecomparison('procedural','length',2)"
   ]
  },
  {
   "cell_type": "markdown",
   "metadata": {},
   "source": [
    "Here we re-define the two functions ('procedure','functional') so that it **doesn't print out anything**. The output is silenced. Everything else stays the same."
   ]
  },
  {
   "cell_type": "code",
   "execution_count": 31,
   "metadata": {
    "collapsed": true
   },
   "outputs": [],
   "source": [
    "def procedure(l):\n",
    "    c1,c2=0,0\n",
    "    #c1 count of words\n",
    "    #c2 count of numbers\n",
    "    for ll in l:\n",
    "        c2=isinstance(ll,int)+c2\n",
    "        #Check each element in list l, if it's an integer, add to c2\n",
    "        if isinstance(ll,str):\n",
    "            #If the element is a string, we split it and form new list k\n",
    "            #Length of k will naturally be word count in that string\n",
    "            k=ll.split(' ')\n",
    "            c1=c1+len(k)\n",
    "            \n",
    "def functional(l):\n",
    "    #Form a list of strings for all strings in l, split each string into new sublists of individual words\n",
    "    #Count length of each sublist (word count)\n",
    "    #Sum all word counts\n",
    "    words=sum([len(ll.split()) for ll in l if isinstance(ll,str)])\n",
    "    #The length of the list consisting of all integers in our list l\n",
    "    #will just be the number of integers\n",
    "    numbers=len([ll for ll in l if isinstance(ll,int)])"
   ]
  },
  {
   "cell_type": "markdown",
   "metadata": {},
   "source": [
    "Now let's plot the time it takes for both functions, with list length varying from 1 to 100."
   ]
  },
  {
   "cell_type": "code",
   "execution_count": 32,
   "metadata": {
    "collapsed": false
   },
   "outputs": [
    {
     "data": {
      "text/plain": [
       "<matplotlib.legend.Legend at 0x10d03e7b8>"
      ]
     },
     "execution_count": 32,
     "metadata": {},
     "output_type": "execute_result"
    },
    {
     "data": {
      "image/png": "[encoded data removed]",
      "text/plain": [
       "<matplotlib.figure.Figure at 0x10adb97f0>"
      ]
     },
     "metadata": {},
     "output_type": "display_data"
    }
   ],
   "source": [
    "plot(range(1,101),timecomparison('functional',1,100), color='blue', label='functional')\n",
    "plot(range(1,101),timecomparison('procedural',1,100),color='red', label='procedural')\n",
    "xlabel('List length')\n",
    "ylabel('Time')\n",
    "legend(loc='upper left')"
   ]
  },
  {
   "cell_type": "markdown",
   "metadata": {},
   "source": [
    "Now let's plot the time it takes for both functions, with list length varying from 100 to 500."
   ]
  },
  {
   "cell_type": "code",
   "execution_count": 33,
   "metadata": {
    "collapsed": false
   },
   "outputs": [
    {
     "data": {
      "text/plain": [
       "<matplotlib.legend.Legend at 0x10d58d3c8>"
      ]
     },
     "execution_count": 33,
     "metadata": {},
     "output_type": "execute_result"
    },
    {
     "data": {
      "image/png": "[encoded data removed]",
      "text/plain": [
       "<matplotlib.figure.Figure at 0x10add4748>"
      ]
     },
     "metadata": {},
     "output_type": "display_data"
    }
   ],
   "source": [
    "plot(range(100,501),timecomparison('functional',100,500), color='blue', label='functional')\n",
    "plot(range(100,501),timecomparison('procedural',100,500),color='red', label='procedural')\n",
    "xlabel('List length')\n",
    "ylabel('Time')\n",
    "legend(loc='upper right')"
   ]
  },
  {
   "cell_type": "markdown",
   "metadata": {},
   "source": [
    "We can clearly see for most of the times, *functional* outperforms *procedural*."
   ]
  },
  {
   "cell_type": "markdown",
   "metadata": {
    "collapsed": true
   },
   "source": [
    "<hr />\n",
    "### Exercise 2 – Simple Grading System - memory based**"
   ]
  },
  {
   "cell_type": "markdown",
   "metadata": {},
   "source": [
    "To begin with, let's design the dictionary. \n",
    "- Given that each student is uniquely identified by a tuple of id and name, the dictionary key will thus be such a tuple. \n",
    "- Each student has both a raw score and a letter grade. So the dictionary will nested, with the second level key being 'Raw' or 'Final'.\n",
    "\n",
    "Please see the below dictionary as an example:"
   ]
  },
  {
   "cell_type": "code",
   "execution_count": 34,
   "metadata": {
    "collapsed": false
   },
   "outputs": [],
   "source": [
    "d={(1,'Mary'):{'Raw':95,'Final':'A'}, (2,'James'):{'Raw':85,'Final':'B'}}"
   ]
  },
  {
   "cell_type": "markdown",
   "metadata": {},
   "source": [
    "If we want to know Mary's grades (raw score and letter grade), we can simply do the following:"
   ]
  },
  {
   "cell_type": "code",
   "execution_count": 35,
   "metadata": {
    "collapsed": false
   },
   "outputs": [
    {
     "name": "stdout",
     "output_type": "stream",
     "text": [
      "A 95\n"
     ]
    }
   ],
   "source": [
    "print(d[(1,'Mary')]['Final'],d[(1,'Mary')]['Raw'])"
   ]
  },
  {
   "cell_type": "markdown",
   "metadata": {},
   "source": [
    "Now let's design a function that enables user to add new observations to the dictionary.\n",
    "\n",
    "Given:\n",
    "- Student name and id\n",
    "- Raw score for each project and homework\n",
    "\n",
    "The function will:\n",
    "- Output his or her final raw score and letter grade\n",
    "- Add the new observation into the dictionary"
   ]
  },
  {
   "cell_type": "code",
   "execution_count": 36,
   "metadata": {
    "collapsed": true
   },
   "outputs": [],
   "source": [
    "def add(info):\n",
    "    #Each homework has a perfect score of 100 and has weight of 10%\n",
    "    #Each project has a perfect score of 100 and has weight of 20%\n",
    "    #Input 'info' is a string\n",
    "    #For example: \"Helen,5,90,90,80,90,95,100,90,90\"\n",
    "    try:\n",
    "        info=info.split(',')\n",
    "        name,studentid=str(info[0]),int(info[1])\n",
    "        h1,h2,h3,h4,h5,h6=int(info[2]),int(info[3]),int(info[4]),int(info[5]),int(info[6]),int(info[7])\n",
    "        p1,p2=int(info[8]),int(info[9])\n",
    "        #Calculate the raw score\n",
    "        raw=(h1+h2+h3+h4+h5+h6)/10+(p1+p2)/5\n",
    "        if raw>=90:\n",
    "            let='A'\n",
    "        elif raw>=80:\n",
    "            let='B'\n",
    "        elif raw>=20:\n",
    "            let='C'\n",
    "        elif raw>10:\n",
    "            let='D'\n",
    "        else:\n",
    "            let='F'\n",
    "        scores={'Raw':raw,'Final':let}\n",
    "        #Append the dictionary into the big nested dictionary\n",
    "        d[(studentid,name)]=scores\n",
    "        print('--------------')\n",
    "        print(\"Final score:\",raw, \" Letter grade:\", let)\n",
    "    except:\n",
    "        print('Make sure you input the corect info format.')\n",
    "        print('Example: Helen,5,90,90,80,90,95,100,90,90')"
   ]
  },
  {
   "cell_type": "markdown",
   "metadata": {},
   "source": [
    "Let's see how the function handles error."
   ]
  },
  {
   "cell_type": "code",
   "execution_count": 37,
   "metadata": {
    "collapsed": false
   },
   "outputs": [
    {
     "name": "stdout",
     "output_type": "stream",
     "text": [
      "Make sure you input the corect info format.\n",
      "Example: Helen,5,90,90,80,90,95,100,90,90\n"
     ]
    }
   ],
   "source": [
    "add(\"Helen,5,a,90,80,90,95,100,90,90\")"
   ]
  },
  {
   "cell_type": "markdown",
   "metadata": {},
   "source": [
    "Now let's try the function by adding the following observation. The final result for that student will be printed out."
   ]
  },
  {
   "cell_type": "code",
   "execution_count": 38,
   "metadata": {
    "collapsed": false
   },
   "outputs": [
    {
     "name": "stdout",
     "output_type": "stream",
     "text": [
      "--------------\n",
      "Final score: 90.5  Letter grade: A\n"
     ]
    }
   ],
   "source": [
    "add(\"Helen,5,90,90,80,90,95,100,90,90\")"
   ]
  },
  {
   "cell_type": "markdown",
   "metadata": {},
   "source": [
    "To generate the menu user interface, I used ipywidget package (https://blog.dominodatalab.com/interactive-dashboards-in-jupyter/) to generate an user interface. You will soon see a text box where you can input different commands."
   ]
  },
  {
   "cell_type": "code",
   "execution_count": 39,
   "metadata": {
    "collapsed": false
   },
   "outputs": [],
   "source": [
    "def menu(command):\n",
    "    if command == 'add':\n",
    "        #Import all the necessary packages\n",
    "        from ipywidgets import widgets\n",
    "        from IPython.display import display\n",
    "        #Allows you to input student info in the textbook\n",
    "        info=widgets.Text()\n",
    "        display(info)\n",
    "        def handle_submit(sender):\n",
    "            add(info.value)\n",
    "            info.close() #Close the textbox after you are done\n",
    "        info.on_submit(handle_submit)\n",
    "        \n",
    "        \n",
    "    elif command == 'print':\n",
    "        #To put a list of student info, sorted by name\n",
    "        print('------------')\n",
    "        for h in sorted(d, key=lambda x: x[1]):  \n",
    "        #sorting dictionary by second value in key (which is a tuple)\n",
    "            print(h[0],h[1],d[h]['Raw'],d[h]['Final'])\n",
    "            \n",
    "    elif command=='summary':\n",
    "        #To print a summary of student scores, max, min and avg etc\n",
    "        print('------------')\n",
    "        print('Student Count:', len(d.items()))\n",
    "        print('Min Score:', min([d[i]['Raw'] for i in d]))\n",
    "        print('Max Score:', max([d[i]['Raw'] for i in d]))\n",
    "        print('Mean Score:', mean([d[i]['Raw'] for i in d]))\n",
    "        print('StdDev:', std([d[i]['Raw'] for i in d]))\n",
    "        \n",
    "    elif command=='plot':\n",
    "        #To generate a pie chart\n",
    "        allgrades=[d[i]['Final'] for i in d]\n",
    "        labels = list(unique(allgrades))\n",
    "        #Labels for pie chart should be the unique letter grades\n",
    "        sizes=[allgrades.count(i) for i in labels] \n",
    "        #Count the frequency of each unique letter grades\n",
    "        pie(sizes, labels=labels, autopct='%1.1f%%', shadow=True, startangle=140)\n",
    "        \n",
    "    elif command=='exit':\n",
    "        #To exit the UI. The textbox will disappear.\n",
    "        print('------------')\n",
    "        print(\"Bye bye\")\n",
    "        \n",
    "    else:\n",
    "        print('------------')\n",
    "        print(\"I can't recognize the command. What do ya want?\")"
   ]
  },
  {
   "cell_type": "code",
   "execution_count": 43,
   "metadata": {
    "collapsed": false
   },
   "outputs": [
    {
     "name": "stdout",
     "output_type": "stream",
     "text": [
      "Input your commands(case-sensitive) \n",
      "\n",
      "add: add new observations\n",
      "  -in the order of: name, id, homework 1-6, project 1-2, separated by commas\n",
      "  -example: Maria,15,90,90,80,90,95,100,90,90 \n",
      "print: Print a list of student names, final scores, and letter grades sorted by names.\n",
      "summary: Print score summary (Student Count, Min, Max, Avg. , StdDev)\n",
      "plot: Plot a pie chart showing the final letter grades distribution.\n",
      "exit: Exit the system. The text box will disappear.\n"
     ]
    }
   ],
   "source": [
    "from ipywidgets import widgets\n",
    "from IPython.display import display\n",
    "\n",
    "do=widgets.Text()\n",
    "display(do)\n",
    "\n",
    "def handle_submit(sender):\n",
    "    menu(do.value)\n",
    "    if do.value=='exit':\n",
    "        do.close()\n",
    "    \n",
    "do.on_submit(handle_submit)\n",
    "print(\"Input your commands(case-sensitive) \\n\")\n",
    "print(\"add: add new observations\")\n",
    "print(\"  -in the order of: name, id, homework 1-6, project 1-2, separated by commas\")\n",
    "print(\"  -example: Maria,15,90,90,80,90,95,100,90,90 \")\n",
    "print(\"print: Print a list of student names, final scores, and letter grades sorted by names.\")\n",
    "print(\"summary: Print score summary (Student Count, Min, Max, Avg. , StdDev)\")\n",
    "print(\"plot: Plot a pie chart showing the final letter grades distribution.\")\n",
    "print(\"exit: Exit the system. The text box will disappear.\")"
   ]
  },
  {
   "cell_type": "markdown",
   "metadata": {},
   "source": [
    "<hr />"
   ]
  },
  {
   "cell_type": "markdown",
   "metadata": {},
   "source": [
    "### Exercise 3 - PyPrind package: Python Progress Bar<br />\n",
    "See package: https://pypi.python.org/pypi/PyPrind/\n",
    "<br/>At times when you have to run a really long loop in Python, you just want to know whether you should stay for one more minute or just walk away and grab coffee. PyPrind provides exactly such clarity. During a loop or some other iterative computation, it would be able to display a progress bar, coupled with estimated remaining time and even progress percentage. You even get to choose your own progress bar style!\n",
    "\n",
    "The basic syntax is:<br/>\n",
    "`bar = pyprind.ProgBar(n, track_time=True, monitor=True, title='Progress bar',\n",
    "                     bar_char='$', width=50)`\n",
    "\n",
    "Also, remember to update the `bar()` inside the loop you are running using `bar.update()`.\n",
    "\n",
    "**For the progress bar, please find below a few arguments:**\n",
    "- `track_time`: If true, \"total time elapsed\" and other info will be tracked. True by default.\n",
    "- `monitor`: If true, CPU and memory usage will be tracked. False by default.\n",
    "- `title`: You can decide your own title for the progress bar.\n",
    "- `width`: Changes length of the progress bar. Default is 30. Takes integer as input.\n",
    "- `bar_char`: Changes the progress bar style. Default is '#'.\n",
    "\n",
    "**Also:**\n",
    "- `bar.update(item_id = i)`: Displays which item in the loop is currently being displayed.\n",
    "- `bar.stop()`: Stops the bar.\n",
    "\n",
    "To show the detailed progress tracking info, you will need to print() the bar.\n",
    "\n",
    "Please find below a few quick examples to demonstrate the functionality. To begin with, let's set try all the arguments as below. In the end, we will also print the bar *outside the loop*."
   ]
  },
  {
   "cell_type": "code",
   "execution_count": 36,
   "metadata": {
    "collapsed": false
   },
   "outputs": [
    {
     "name": "stderr",
     "output_type": "stream",
     "text": [
      "Progress bar\n",
      "0%                                              100%\n",
      "[$$$$$$$$$$$$$$$$$$$$$$$$$$$$$$$$$$$$$$$$$$$$$$$$$$] | ETA: 00:00:00 | Item ID: 999999\n",
      "Total time elapsed: 00:00:05\n"
     ]
    },
    {
     "name": "stdout",
     "output_type": "stream",
     "text": [
      "Title: Progress bar\n",
      "  Started: 01/07/2017 22:44:20\n",
      "  Finished: 01/07/2017 22:44:25\n",
      "  Total time elapsed: 00:00:05\n",
      "  CPU %: 97.40\n",
      "  Memory %: 0.51\n"
     ]
    }
   ],
   "source": [
    "import pyprind\n",
    "\n",
    "n = 1000000 #Length of the iterative process\n",
    "bar = pyprind.ProgBar(n, track_time=True, monitor=True, title='Progress bar',\n",
    "                     bar_char='$', width=50)\n",
    "#Initialize the bar, with the arguments set as above.\n",
    "\n",
    "for i in range(n):  \n",
    "    k=n^2+10                 #Here's your computation.\n",
    "    k=k+1\n",
    "    bar.update(item_id = i)           #It updates the progress visualization.\n",
    "    \n",
    "print(bar)"
   ]
  },
  {
   "cell_type": "markdown",
   "metadata": {},
   "source": [
    "Alternatively, if you only want the percentage figure, not the progress bar, simply change use \"ProgPercent\" instead \"ProgBar\". Of course, 'bar_char' and 'width' arguments don't apply. But the rest stays the same."
   ]
  },
  {
   "cell_type": "code",
   "execution_count": 37,
   "metadata": {
    "collapsed": false
   },
   "outputs": [
    {
     "name": "stderr",
     "output_type": "stream",
     "text": [
      "Progress bar\n",
      "[100 %] Time elapsed: 00:00:26 | ETA: 00:00:00 | Item ID: 999999\n",
      "Total time elapsed: 00:00:26\n"
     ]
    },
    {
     "name": "stdout",
     "output_type": "stream",
     "text": [
      "Title: Progress bar\n",
      "  Started: 01/07/2017 22:44:35\n",
      "  Finished: 01/07/2017 22:45:01\n",
      "  Total time elapsed: 00:00:26\n",
      "  CPU %: 96.80\n",
      "  Memory %: 0.51\n"
     ]
    }
   ],
   "source": [
    "n = 1000000 #Length of the iterative process\n",
    "bar = pyprind.ProgPercent(n, track_time=True, monitor=True, title='Progress bar')\n",
    "#Initialize the bar, with the arguments set as above.\n",
    "\n",
    "for i in range(n):  \n",
    "    k=n^2+10                 #Here's your computation.\n",
    "    k=k+1\n",
    "    bar.update(item_id = i)           #It updates the progress visualization\n",
    "    \n",
    "print(bar)"
   ]
  },
  {
   "cell_type": "code",
   "execution_count": null,
   "metadata": {
    "collapsed": true
   },
   "outputs": [],
   "source": []
  }
 ],
 "metadata": {
  "anaconda-cloud": {},
  "kernelspec": {
   "display_name": "Python [conda root]",
   "language": "python",
   "name": "conda-root-py"
  },
  "language_info": {
   "codemirror_mode": {
    "name": "ipython",
    "version": 3
   },
   "file_extension": ".py",
   "mimetype": "text/x-python",
   "name": "python",
   "nbconvert_exporter": "python",
   "pygments_lexer": "ipython3",
   "version": "3.5.2"
  },
  "widgets": {
   "state": {
    "60291b857b0442ceb430c1c128a5cbfe": {
     "views": [
      {
       "cell_index": 34
      }
     ]
    }
   },
   "version": "1.2.0"
  }
 },
 "nbformat": 4,
 "nbformat_minor": 1
}
